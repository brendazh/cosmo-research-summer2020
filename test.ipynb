{
 "cells": [
  {
   "cell_type": "code",
   "execution_count": 1,
   "metadata": {},
   "outputs": [],
   "source": [
    "import classy\n",
    "\n",
    "class_params = {\n",
    "    'h': 0.7,\n",
    "    'omega_b': 0.022032,\n",
    "    'omega_cdm': 0.12038,\n",
    "    'Omega_k': 0.,\n",
    "    'A_s': 2.215e-9,\n",
    "    'n_s': 0.96,\n",
    "    'tau_reio': 0.0925,\n",
    "    'output': 'tCl',\n",
    "}\n",
    "cosmo = classy.Class()\n",
    "cosmo.set(class_params)\n",
    "cosmo.compute()"
   ]
  },
  {
   "cell_type": "code",
   "execution_count": 2,
   "metadata": {},
   "outputs": [],
   "source": [
    "# get all C_l output\n",
    "cls = cosmo.raw_cl(2500)\n",
    "# To check the format of cls"
   ]
  },
  {
   "cell_type": "code",
   "execution_count": 3,
   "metadata": {},
   "outputs": [],
   "source": [
    "ll = cls['ell'][2:]\n",
    "clTT = cls['tt'][2:]"
   ]
  },
  {
   "cell_type": "code",
   "execution_count": 4,
   "metadata": {},
   "outputs": [],
   "source": [
    "# to get plots displayed in notebook\n",
    "%matplotlib inline\n",
    "import matplotlib.pyplot as plt\n",
    "from math import pi"
   ]
  },
  {
   "cell_type": "code",
   "execution_count": 5,
   "metadata": {},
   "outputs": [
    {
     "data": {
      "image/png": "[encoded data removed]",
      "text/plain": [
       "<Figure size 432x288 with 1 Axes>"
      ]
     },
     "metadata": {
      "needs_background": "light"
     },
     "output_type": "display_data"
    }
   ],
   "source": [
    "plt.figure(1)\n",
    "plt.xscale('log');plt.yscale('linear');plt.xlim(2,2500)\n",
    "plt.xlabel(r'$\\ell$')\n",
    "plt.ylabel(r'$[\\ell(\\ell+1)/2\\pi]  C_\\ell^\\mathrm{TT}$')\n",
    "plt.plot(ll,clTT*ll*(ll+1)/2./pi,'r-')\n",
    "plt.savefig('plot.pdf')"
   ]
  },
  {
   "cell_type": "code",
   "execution_count": null,
   "metadata": {},
   "outputs": [],
   "source": []
  },
  {
   "cell_type": "code",
   "execution_count": null,
   "metadata": {},
   "outputs": [],
   "source": []
  },
  {
   "cell_type": "code",
   "execution_count": 37,
   "metadata": {},
   "outputs": [],
   "source": [
    "import classy\n",
    "\n",
    "class_params = {\n",
    "    'h': 0.7,\n",
    "    'omega_b': 0.035,\n",
    "    'omega_cdm': 0.3,\n",
    "    'Omega_k': 0.,\n",
    "    'A_s': 2.215e-9,\n",
    "    'n_s': 0.96,\n",
    "    'tau_reio': 0.0925,\n",
    "    'output': 'tCl',\n",
    "}\n",
    "cosmo = classy.Class()\n",
    "cosmo.set(class_params)\n",
    "cosmo.compute()"
   ]
  },
  {
   "cell_type": "code",
   "execution_count": 38,
   "metadata": {},
   "outputs": [],
   "source": [
    "# get all C_l output\n",
    "cls = cosmo.raw_cl(2500)\n",
    "# To check the format of cls"
   ]
  },
  {
   "cell_type": "code",
   "execution_count": 39,
   "metadata": {},
   "outputs": [],
   "source": [
    "ll = cls['ell'][2:]\n",
    "clTT = cls['tt'][2:]"
   ]
  },
  {
   "cell_type": "code",
   "execution_count": 40,
   "metadata": {},
   "outputs": [],
   "source": [
    "# to get plots displayed in notebook\n",
    "%matplotlib inline\n",
    "import matplotlib.pyplot as plt\n",
    "from math import pi"
   ]
  },
  {
   "cell_type": "code",
   "execution_count": 41,
   "metadata": {},
   "outputs": [
    {
     "data": {
      "image/png": "[encoded data removed]",
      "text/plain": [
       "<Figure size 432x288 with 1 Axes>"
      ]
     },
     "metadata": {
      "needs_background": "light"
     },
     "output_type": "display_data"
    }
   ],
   "source": [
    "plt.figure(1)\n",
    "plt.xscale('log');plt.yscale('linear');plt.xlim(2,2500)\n",
    "plt.xlabel(r'$\\ell$')\n",
    "plt.ylabel(r'$[\\ell(\\ell+1)/2\\pi]  C_\\ell^\\mathrm{TT}$')\n",
    "plt.plot(ll,clTT*ll*(ll+1)/2./pi,'r-')\n",
    "plt.savefig('plot-b-cdm-higher.pdf')"
   ]
  },
  {
   "cell_type": "code",
   "execution_count": null,
   "metadata": {},
   "outputs": [],
   "source": []
  },
  {
   "cell_type": "code",
   "execution_count": null,
   "metadata": {},
   "outputs": [],
   "source": []
  }
 ],
 "metadata": {
  "kernelspec": {
   "display_name": "Python 3",
   "language": "python",
   "name": "python3"
  },
  "language_info": {
   "codemirror_mode": {
    "name": "ipython",
    "version": 3
   },
   "file_extension": ".py",
   "mimetype": "text/x-python",
   "name": "python",
   "nbconvert_exporter": "python",
   "pygments_lexer": "ipython3",
   "version": "3.8.2"
  }
 },
 "nbformat": 4,
 "nbformat_minor": 4
}
