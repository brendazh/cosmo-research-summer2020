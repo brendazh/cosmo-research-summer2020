{
 "cells": [
  {
   "cell_type": "code",
   "execution_count": 3,
   "metadata": {},
   "outputs": [],
   "source": [
    "# import necessary modules\n",
    "%matplotlib inline\n",
    "import matplotlib\n",
    "import matplotlib.pyplot as plt\n",
    "import numpy as np\n",
    "from scipy.optimize import fsolve\n",
    "import math\n",
    "from classy import Class"
   ]
  },
  {
   "cell_type": "code",
   "execution_count": 6,
   "metadata": {},
   "outputs": [],
   "source": [
    "# esthetic definitions for the plots\n",
    "font = {'size'   : 16, 'family':'STIXGeneral'}\n",
    "axislabelfontsize='large'\n",
    "matplotlib.rc('font', **font)\n",
    "matplotlib.mathtext.rcParams['legend.fontsize']='medium'\n",
    "plt.rcParams[\"figure.figsize\"] = [8.0,6.0]"
   ]
  },
  {
   "cell_type": "code",
   "execution_count": 7,
   "metadata": {},
   "outputs": [
    {
     "ename": "CosmoComputationError",
     "evalue": "\n\nError in Class: background_init(L:957) :error in background_solve(ppr,pba);\n=>background_solve(L:1930) :error in background_initial_conditions(ppr,pba,pvecback,pvecback_integration);\n=>background_initial_conditions(L:2485) :error in background_functions(pba, pvecback_integration, pba->normal_info, pvecback);\n=>background_functions(L:549) :condition (rho_crit <= 0.) is true; rho_crit = nan instead of strictly positive",
     "output_type": "error",
     "traceback": [
      "\u001b[0;31m---------------------------------------------------------------------------\u001b[0m",
      "\u001b[0;31mCosmoComputationError\u001b[0m                     Traceback (most recent call last)",
      "\u001b[0;32m<ipython-input-7-9572cc6f15a9>\u001b[0m in \u001b[0;36m<module>\u001b[0;34m\u001b[0m\n\u001b[1;32m     51\u001b[0m \u001b[0mM\u001b[0m \u001b[0;34m=\u001b[0m \u001b[0mClass\u001b[0m\u001b[0;34m(\u001b[0m\u001b[0;34m)\u001b[0m\u001b[0;34m\u001b[0m\u001b[0;34m\u001b[0m\u001b[0m\n\u001b[1;32m     52\u001b[0m \u001b[0mM\u001b[0m\u001b[0;34m.\u001b[0m\u001b[0mset\u001b[0m\u001b[0;34m(\u001b[0m\u001b[0mlcdm_settings\u001b[0m\u001b[0;34m)\u001b[0m\u001b[0;34m\u001b[0m\u001b[0;34m\u001b[0m\u001b[0m\n\u001b[0;32m---> 53\u001b[0;31m \u001b[0mM\u001b[0m\u001b[0;34m.\u001b[0m\u001b[0mcompute\u001b[0m\u001b[0;34m(\u001b[0m\u001b[0;34m)\u001b[0m\u001b[0;34m\u001b[0m\u001b[0;34m\u001b[0m\u001b[0m\n\u001b[0m\u001b[1;32m     54\u001b[0m \u001b[0;34m\u001b[0m\u001b[0m\n\u001b[1;32m     55\u001b[0m \u001b[0mCosmo\u001b[0m \u001b[0;34m=\u001b[0m \u001b[0mClass\u001b[0m\u001b[0;34m(\u001b[0m\u001b[0;34m)\u001b[0m\u001b[0;34m\u001b[0m\u001b[0;34m\u001b[0m\u001b[0m\n",
      "\u001b[0;32mclassy.pyx\u001b[0m in \u001b[0;36mclassy.Class.compute\u001b[0;34m()\u001b[0m\n",
      "\u001b[0;31mCosmoComputationError\u001b[0m: \n\nError in Class: background_init(L:957) :error in background_solve(ppr,pba);\n=>background_solve(L:1930) :error in background_initial_conditions(ppr,pba,pvecback,pvecback_integration);\n=>background_initial_conditions(L:2485) :error in background_functions(pba, pvecback_integration, pba->normal_info, pvecback);\n=>background_functions(L:549) :condition (rho_crit <= 0.) is true; rho_crit = nan instead of strictly positive"
     ]
    },
    {
     "data": {
      "image/png": "[encoded data removed]",
      "text/plain": [
       "<Figure size 576x432 with 1 Axes>"
      ]
     },
     "metadata": {
      "needs_background": "light"
     },
     "output_type": "display_data"
    },
    {
     "data": {
      "image/png": "[encoded data removed]",
      "text/plain": [
       "<Figure size 576x432 with 1 Axes>"
      ]
     },
     "metadata": {
      "needs_background": "light"
     },
     "output_type": "display_data"
    }
   ],
   "source": [
    "# Fixed settings\n",
    "#\n",
    "lcdm_settings = {\"output\":'tCl,lCl',\n",
    "                   \"lensing\": 'yes',\n",
    "                   \"A_s\": 2.187e-9,  \n",
    "                   \"n_s\": 0.9696,\n",
    "                   \"h\": 0.6837,\n",
    "                   \"omega_b\": 0.02242,\n",
    "                   \"omega_cdm\": 0.1175,\n",
    "                   \"tau_reio\": 0.078,\n",
    "                   'Omega_Lambda': 0.7,\n",
    "                   \"Omega_fld\": 0,\n",
    "                   \"Omega_scf\": 0.01,\n",
    "                   \"n_axion\": 3,\n",
    "                   \"scf_tuning_index\": 0,\n",
    "                   \"scf_parameters\": 1.0e4,\n",
    "                   \"scf_potential\": \"axion\",}\n",
    "\n",
    "axi_settings = {\"output\":'tCl,lCl',\n",
    "                   \"lensing\": 'yes',\n",
    "                   \"A_s\": 2.187e-9,  \n",
    "                   \"n_s\": 0.9696,\n",
    "                   \"h\": 0.6837,\n",
    "                   \"omega_b\": 0.02242,\n",
    "                   \"omega_cdm\": 0.1175,\n",
    "                   \"tau_reio\": 0.078,\n",
    "                   #'Omega_Lambda': 0.7,\n",
    "                   \"Omega_fld\": 0,\n",
    "                   \"Omega_scf\": 0.01,\n",
    "                   \"n_axion\": 3,\n",
    "                   \"scf_tuning_index\": 0,\n",
    "                   \"scf_parameters\": 1.0e4,\n",
    "                   \"scf_potential\": \"axion\",\n",
    "                   \"log10_axion_ac\": -3.3,\n",
    "                   \"log10_fraction_axion_ac\": 0.1}\n",
    "#\n",
    "# arrays for output\n",
    "#\n",
    "#kvec = np.logspace(-4,np.log10(3),1000)\n",
    "legarray = []\n",
    "twopi = 2.*math.pi\n",
    "#\n",
    "# Create figures\n",
    "#\n",
    "fig_lcdmTT, ax_lcdmTT = plt.subplots()\n",
    "fig_axiTT, ax_axiTT = plt.subplots()\n",
    "\n",
    "#    \n",
    "# call CLASS\n",
    "#\n",
    "M = Class()\n",
    "M.set(lcdm_settings)\n",
    "M.compute()\n",
    "\n",
    "Cosmo = Class()\n",
    "Cosmo.set(axi_settings)\n",
    "Cosmo.compute()\n",
    "#\n",
    "# get Cls\n",
    "#\n",
    "clM = M.lensed_cl(2500)\n",
    "ll = clM['ell'][2:]\n",
    "clTT = clM['tt'][2:]\n",
    "\n",
    "clCosmo = Cosmo.lensed_cl(2500)\n",
    "axill = clCosmo['ell'][2:]\n",
    "axiclTT = clCosmo['tt'][2:]\n",
    "#\n",
    "# plot C_l^TT\n",
    "#\n",
    "ax_lcdmTT.semilogx(ll,clTT*ll*(ll+1)/twopi,color='r',alpha=1,linestyle='-')\n",
    "ax_axiTT.semilogx(axill, axiclTT*axill*(axill+1)/twopi, color ='b', alpha = 1, linestyle = '-')\n",
    "#ax_TT.semilogx(ll,clTT*ll*(ll+1)/twopi,color=var2_color,alpha=var2_alpha,linestyle='-')\n",
    "#\n",
    "# reset CLASS\n",
    "#\n",
    "M.struct_cleanup()\n",
    "    \n",
    "# output of C_l^TT figure\n",
    "#      \n",
    "ax_lcdmTT.set_xlim([2,2500])\n",
    "ax_lcdmTT.set_xlabel(r'$\\ell$')\n",
    "ax_lcdmTT.set_ylabel(r'$[\\ell(\\ell+1)/2\\pi]  C_\\ell^\\mathrm{TT}$')\n",
    "ax_lcdmTT.legend(legarray)\n",
    "fig_lcdmTT.tight_layout()\n",
    "#fig_TT.savefig('spectra_%s_cltt.pdf' % var_figname)"
   ]
  },
  {
   "cell_type": "code",
   "execution_count": null,
   "metadata": {},
   "outputs": [],
   "source": []
  }
 ],
 "metadata": {
  "kernelspec": {
   "display_name": "Python 3",
   "language": "python",
   "name": "python3"
  },
  "language_info": {
   "codemirror_mode": {
    "name": "ipython",
    "version": 3
   },
   "file_extension": ".py",
   "mimetype": "text/x-python",
   "name": "python",
   "nbconvert_exporter": "python",
   "pygments_lexer": "ipython3",
   "version": "3.8.3"
  }
 },
 "nbformat": 4,
 "nbformat_minor": 4
}
