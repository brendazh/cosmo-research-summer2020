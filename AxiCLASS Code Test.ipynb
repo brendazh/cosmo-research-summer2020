{
 "cells": [
  {
   "cell_type": "code",
   "execution_count": 23,
   "metadata": {},
   "outputs": [
    {
     "data": {
      "text/plain": [
       "['/Users/brendazhou/Cosmo/Repositories/darkmatter-hubble-summer2020',\n",
       " '/Users/brendazhou/miniconda3/envs/AxiCLASS/lib/python38.zip',\n",
       " '/Users/brendazhou/miniconda3/envs/AxiCLASS/lib/python3.8',\n",
       " '/Users/brendazhou/miniconda3/envs/AxiCLASS/lib/python3.8/lib-dynload',\n",
       " '',\n",
       " '/Users/brendazhou/.local/lib/python3.8/site-packages',\n",
       " '/Users/brendazhou/miniconda3/envs/AxiCLASS/lib/python3.8/site-packages',\n",
       " '/Users/brendazhou/miniconda3/envs/AxiCLASS/lib/python3.8/site-packages/IPython/extensions',\n",
       " '/Users/brendazhou/.ipython',\n",
       " '/Users/brendazhou/Cosmo/Repositories/AxiCLASS/']"
      ]
     },
     "execution_count": 23,
     "metadata": {},
     "output_type": "execute_result"
    }
   ],
   "source": [
    "from classy import Class\n",
    "import sys\n",
    "sys.path"
   ]
  },
  {
   "cell_type": "code",
   "execution_count": 31,
   "metadata": {},
   "outputs": [],
   "source": [
    "# create instance of the class \"Class\"\n",
    "LambdaCDM = Class()\n",
    "# pass input parameters\n",
    "LambdaCDM.set({'h':0.67556,\n",
    "               'T_cmb': 2.7255,\n",
    "               'omega_b':0.022032,\n",
    "               'N_ur':3.046,\n",
    "               'omega_cdm': 0.12038,\n",
    "               'Omega_dcdmdr': 0.0,\n",
    "               'N_ncdm': 0,\n",
    "               'Omega_k': 0.,\n",
    "               #\"c_gamma_over_c_fld\": 0.4,\n",
    "               'Omega_Lambda': 0.7,\n",
    "               'Omega_fld': 0,\n",
    "               'Omega_scf': -0.5,\n",
    "               'Omega_idm_dr': 0.,\n",
    "               'stat_f_idr': 0.875,\n",
    "               'z_reio': 11.357,\n",
    "               'reionization_exponent': 1.5,\n",
    "               'reionization_width': 0.5,\n",
    "               'helium_fullreio_redshift': 3.5,\n",
    "               'helium_fullreio_width': 0.5,\n",
    "               'annihilation': 0.,\n",
    "               'k_pivot': 0.05,\n",
    "               'A_s': 2.215e-9,\n",
    "               'n_s': 0.9619,\n",
    "               \"attractor_ic_scf\": 'yes',\n",
    "               \"a_today\": 1,\n",
    "               #'scf_potential': 'axion',\n",
    "               #'n_axion': 3,\n",
    "#                 'log10_axion_ac': -3.262477, # Must input log10(axion_ac)\n",
    "#                 'log10_fraction_axion_ac': -1.922767, # Must input log10(fraction_axion_ac)\n",
    "#                 # m_axion = 1.811412e+06\n",
    "#                 # f_axion = 1\n",
    "               'scf_parameters': 3.,}) #phi_i,phi_dot_i //dummy: phi_i will be updated.\n",
    "              # 'adptative_stepsize': 0,\n",
    "             #  'scf_tuning_index': 0,})\n",
    "LambdaCDM.set({'output':'tCl,pCl,lCl','lensing':'yes'})\n",
    "# run class\n",
    "LambdaCDM.compute()"
   ]
  },
  {
   "cell_type": "code",
   "execution_count": null,
   "metadata": {},
   "outputs": [],
   "source": []
  },
  {
   "cell_type": "code",
   "execution_count": 3,
   "metadata": {},
   "outputs": [],
   "source": [
    "# # create instance of the class \"Class\"\n",
    "# LambdaCDM = Class()\n",
    "# # pass input parameters\n",
    "# LambdaCDM.set({'H0': 68.37,\n",
    "#                 'omega_cdm': 0.1175,\n",
    "#                 'omega_b': 0.02242,\n",
    "#                 'A_s': 2.187e-9,\n",
    "#                 'tau_reio': 0.078,\n",
    "#                 'n_s': 0.9696,\n",
    "#                 # #####LCDM parameter####\n",
    "#                 # omega_b = 0.02251\n",
    "#                 # omega_cdm = 0.1320\n",
    "#                 # H0 = 72.81\n",
    "#                 # tau_reio = 0.068\n",
    "#                 # A_s = 2.191e-9\n",
    "#                 # n_s = 0.9860\n",
    "#                 # ########################\n",
    "#                 # # # #########################\n",
    "#                 # N_ur = 2.0328\n",
    "#                 # N_ncdm = 1\n",
    "#                 # deg_ncdm = 1\n",
    "#                 # m_ncdm = 0.06\n",
    "#                 # T_ncdm = 0.71611\n",
    "#                 # #####EDE parameters#####\n",
    "#                 # ####Bestfit \"n free\"####\n",
    "#                 # #Smith et al,1908.06995#\n",
    "#                 # scf_potential = axion\n",
    "#                 # n_axion = 2.60\n",
    "#                 # log10_axion_ac = -3.531\n",
    "#                 # log10_fraction_axion_ac = -0.879426\n",
    "#                 # scf_parameters = 2.72,0.0\n",
    "#                 # ########################\n",
    "#                 #\n",
    "#                 # #####extra EDE parameters#####\n",
    "#                 # #keep as is for standard runs#\n",
    "#                 # scf_evolve_as_fluid = no\n",
    "#                 # scf_evolve_like_axionCAMB = no\n",
    "#                 # threshold_scf_fluid_m_over_H = 1e-3\n",
    "#                 # do_shooting = yes\n",
    "#                 # do_shooting_scf = yes\n",
    "#                 # scf_has_perturbations = yes\n",
    "#                 # attractor_ic_scf = no\n",
    "#                 # compute_phase_shift = no\n",
    "#                 # ########################\n",
    "\n",
    "#                 #####precision parameters#####\n",
    "#                 #keep as is for standard runs#\n",
    "#                 'adptative_stepsize': 100,\n",
    "#                 'perturb_sampling_stepsize': 1e-3,\n",
    "#                 'k_per_decade_for_pk': 1000,\n",
    "#                 'k_per_decade_for_bao': 1000,\n",
    "#                 'back_integration_stepsize': 1e-4,\n",
    "#                 ########################\n",
    "#               })\n",
    "# LambdaCDM.set({'output':'tCl,pCl,lCl,mPk','lensing':'yes','P_k_max_1/Mpc':3.0})\n",
    "# # run class\n",
    "# LambdaCDM.compute()"
   ]
  },
  {
   "cell_type": "code",
   "execution_count": null,
   "metadata": {},
   "outputs": [],
   "source": []
  },
  {
   "cell_type": "code",
   "execution_count": 32,
   "metadata": {},
   "outputs": [],
   "source": [
    "# get all C_l output\n",
    "cls = LambdaCDM.lensed_cl(2500)\n",
    "# To check the format of cls"
   ]
  },
  {
   "cell_type": "code",
   "execution_count": 33,
   "metadata": {},
   "outputs": [],
   "source": [
    "ll = cls['ell'][2:]\n",
    "clTT = cls['tt'][2:]\n",
    "clEE = cls['ee'][2:]\n",
    "clPP = cls['pp'][2:]"
   ]
  },
  {
   "cell_type": "code",
   "execution_count": 34,
   "metadata": {},
   "outputs": [],
   "source": [
    "# to get plots displayed in notebook\n",
    "%matplotlib inline\n",
    "import matplotlib.pyplot as plt\n",
    "from math import pi"
   ]
  },
  {
   "cell_type": "code",
   "execution_count": 35,
   "metadata": {},
   "outputs": [
    {
     "data": {
      "text/plain": [
       "[<matplotlib.lines.Line2D at 0x117409160>]"
      ]
     },
     "execution_count": 35,
     "metadata": {},
     "output_type": "execute_result"
    },
    {
     "data": {
      "image/png": "[encoded data removed]",
      "text/plain": [
       "<Figure size 432x288 with 1 Axes>"
      ]
     },
     "metadata": {
      "needs_background": "light"
     },
     "output_type": "display_data"
    }
   ],
   "source": [
    "# plot C_l^TT\n",
    "plt.figure(1)\n",
    "plt.xscale('log');plt.yscale('linear');plt.xlim(2,2500)\n",
    "plt.xlabel(r'$\\ell$')\n",
    "plt.ylabel(r'$[\\ell(\\ell+1)/2\\pi]  C_\\ell^\\mathrm{TT}$')\n",
    "plt.plot(ll,clTT*ll*(ll+1)/2./pi,'r-')\n",
    "# plt.savefig('warmup_cltt.pdf')"
   ]
  },
  {
   "cell_type": "code",
   "execution_count": null,
   "metadata": {},
   "outputs": [],
   "source": []
  }
 ],
 "metadata": {
  "kernelspec": {
   "display_name": "Python 3",
   "language": "python",
   "name": "python3"
  },
  "language_info": {
   "codemirror_mode": {
    "name": "ipython",
    "version": 3
   },
   "file_extension": ".py",
   "mimetype": "text/x-python",
   "name": "python",
   "nbconvert_exporter": "python",
   "pygments_lexer": "ipython3",
   "version": "3.8.3"
  }
 },
 "nbformat": 4,
 "nbformat_minor": 4
}
