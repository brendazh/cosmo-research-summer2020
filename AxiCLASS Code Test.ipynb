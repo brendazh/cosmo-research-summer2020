{
 "cells": [
  {
   "cell_type": "code",
   "execution_count": 11,
   "metadata": {},
   "outputs": [],
   "source": [
    "from classy import Class"
   ]
  },
  {
   "cell_type": "code",
   "execution_count": 19,
   "metadata": {},
   "outputs": [],
   "source": [
    "# create instance of the class \"Class\"\n",
    "LambdaCDM = Class()\n",
    "# pass input parameters\n",
    "LambdaCDM.set({'h':0.67556,\n",
    "                'T_cmb': 2.7255,\n",
    "                'omega_b':0.022032,\n",
    "                'N_ur':3.046,\n",
    "                'omega_cdm': 0.12038,\n",
    "                'Omega_dcdmdr': 0.0,\n",
    "                'N_ncdm': 0,\n",
    "                'Omega_k': 0.,\n",
    "                'Omega_fld': 0,\n",
    "                'Omega_scf': 0,\n",
    "                'Omega_idm_dr': 0.,\n",
    "                'stat_f_idr': 0.875,\n",
    "                'z_reio': 11.357,\n",
    "                'reionization_exponent': 1.5,\n",
    "                'reionization_width': 0.5,\n",
    "                'helium_fullreio_redshift': 3.5,\n",
    "                'helium_fullreio_width': 0.5,\n",
    "                'annihilation': 0.,\n",
    "                'k_pivot': 0.05,\n",
    "                'A_s': 2.215e-9,\n",
    "                'n_s': 0.9619,\n",
    "                #'scf_potential': axion,\n",
    "                #'n_axion': 3,\n",
    "                'log10_axion_ac': -3.262477, # Must input log10(axion_ac)\n",
    "                'log10_fraction_axion_ac': -1.922767, # Must input log10(fraction_axion_ac)\n",
    "                # m_axion = 1.811412e+06\n",
    "                # f_axion = 1\n",
    "                'scf_parameters': 3., #phi_i,phi_dot_i //dummy: phi_i will be updated.\n",
    "                'adptative_stepsize': 0,\n",
    "                'scf_tuning_index': 0,})\n",
    "LambdaCDM.set({'output':'tCl,pCl,lCl,mPk','lensing':'yes','P_k_max_1/Mpc':3.0})\n",
    "# run class\n",
    "LambdaCDM.compute()"
   ]
  },
  {
   "cell_type": "code",
   "execution_count": 20,
   "metadata": {},
   "outputs": [],
   "source": [
    "# get all C_l output\n",
    "cls = LambdaCDM.lensed_cl(2500)\n",
    "# To check the format of cls"
   ]
  },
  {
   "cell_type": "code",
   "execution_count": 21,
   "metadata": {},
   "outputs": [],
   "source": [
    "ll = cls['ell'][2:]\n",
    "clTT = cls['tt'][2:]\n",
    "clEE = cls['ee'][2:]\n",
    "clPP = cls['pp'][2:]"
   ]
  },
  {
   "cell_type": "code",
   "execution_count": 22,
   "metadata": {},
   "outputs": [],
   "source": [
    "# to get plots displayed in notebook\n",
    "%matplotlib inline\n",
    "import matplotlib.pyplot as plt\n",
    "from math import pi"
   ]
  },
  {
   "cell_type": "code",
   "execution_count": 23,
   "metadata": {},
   "outputs": [
    {
     "data": {
      "text/plain": [
       "[<matplotlib.lines.Line2D at 0x117cfdaf0>]"
      ]
     },
     "execution_count": 23,
     "metadata": {},
     "output_type": "execute_result"
    },
    {
     "data": {
      "image/png": "[encoded data removed]",
      "text/plain": [
       "<Figure size 432x288 with 1 Axes>"
      ]
     },
     "metadata": {
      "needs_background": "light"
     },
     "output_type": "display_data"
    }
   ],
   "source": [
    "# plot C_l^TT\n",
    "plt.figure(1)\n",
    "plt.xscale('log');plt.yscale('linear');plt.xlim(2,2500)\n",
    "plt.xlabel(r'$\\ell$')\n",
    "plt.ylabel(r'$[\\ell(\\ell+1)/2\\pi]  C_\\ell^\\mathrm{TT}$')\n",
    "plt.plot(ll,clTT*ll*(ll+1)/2./pi,'r-')\n",
    "# plt.savefig('warmup_cltt.pdf')"
   ]
  },
  {
   "cell_type": "code",
   "execution_count": null,
   "metadata": {},
   "outputs": [],
   "source": []
  }
 ],
 "metadata": {
  "kernelspec": {
   "display_name": "Python 3",
   "language": "python",
   "name": "python3"
  },
  "language_info": {
   "codemirror_mode": {
    "name": "ipython",
    "version": 3
   },
   "file_extension": ".py",
   "mimetype": "text/x-python",
   "name": "python",
   "nbconvert_exporter": "python",
   "pygments_lexer": "ipython3",
   "version": "3.8.3"
  }
 },
 "nbformat": 4,
 "nbformat_minor": 4
}
