{
 "cells": [
  {
   "cell_type": "code",
   "execution_count": 6,
   "metadata": {},
   "outputs": [],
   "source": [
    "info = {\n",
    "    \"likelihood\": {\n",
    "        \"gaussian_mixture\": {\n",
    "            \"means\": [0.5, 0],\n",
    "            \"covs\": [[0.1, 0.05],\n",
    "                     [0.05, 0.2]],\n",
    "            \"derived\": True}},\n",
    "    \"params\": dict([\n",
    "        (\"a\", {\n",
    "            \"prior\": {\"min\": -1, \"max\": 1},\n",
    "            \"latex\": r\"\\alpha\"}),\n",
    "        (\"b\", {\n",
    "            \"prior\": {\"dist\": \"norm\", \"loc\": 0, \"scale\": 0.25},\n",
    "            \"ref\": 0,\n",
    "            \"proposal\": 0.5,\n",
    "            \"latex\": r\"\\beta\"}),\n",
    "        (\"derived_a\", {\n",
    "            \"latex\": r\"\\alpha^\\prime\"}),\n",
    "        (\"derived_b\", {\n",
    "            \"latex\": r\"\\beta^\\prime\"})]),\n",
    "    \"sampler\": {\n",
    "        \"mcmc\": None}}"
   ]
  },
  {
   "cell_type": "code",
   "execution_count": 7,
   "metadata": {},
   "outputs": [
    {
     "name": "stdout",
     "output_type": "stream",
     "text": [
      "[mcmc] Getting initial point... (this may take a few seconds)\n",
      "[prior] Reference values or pdf's for some parameters were not provided. Sampling from the prior instead for those parameters.\n",
      "[model] Measuring speeds... (this may take a few seconds)\n",
      "[model] Setting measured speeds (per sec): {gaussian_mixture: 3730.0}\n",
      "[prior] *WARNING* Reference pdf not defined or improper for some parameters. Using prior's sigma instead for them.\n",
      "[mcmc] Covariance matrix not present. We will start learning the covariance of the proposal earlier: R-1 = 30 (would be 2 if all params loaded).\n",
      "[mcmc] Initial point: a:0.5360823, b:0\n",
      "[mcmc] Sampling!\n",
      "[mcmc] Progress @ 2020-06-02 20:46:17 : 1 steps taken, and 0 accepted.\n",
      "[mcmc] Learn + convergence test @ 80 samples accepted.\n",
      "[mcmc]  - Acceptance rate: 0.125\n",
      "[mcmc]  - Convergence of means: R-1 = 0.383142 after 80 accepted steps\n",
      "[mcmc]  - Updated covariance matrix of proposal pdf.\n",
      "[mcmc] Learn + convergence test @ 160 samples accepted.\n",
      "[mcmc]  - Acceptance rate: 0.182\n",
      "[mcmc]  - Convergence of means: R-1 = 0.220948 after 160 accepted steps\n",
      "[mcmc]  - Updated covariance matrix of proposal pdf.\n",
      "[mcmc] Learn + convergence test @ 240 samples accepted.\n",
      "[mcmc]  - Acceptance rate: 0.210\n",
      "[mcmc]  - Convergence of means: R-1 = 0.115892 after 240 accepted steps\n",
      "[mcmc]  - Updated covariance matrix of proposal pdf.\n",
      "[mcmc] Learn + convergence test @ 320 samples accepted.\n",
      "[mcmc]  - Acceptance rate: 0.235\n",
      "[mcmc]  - Convergence of means: R-1 = 0.080692 after 320 accepted steps\n",
      "[mcmc]  - Updated covariance matrix of proposal pdf.\n",
      "[mcmc] Learn + convergence test @ 400 samples accepted.\n",
      "[mcmc]  - Acceptance rate: 0.240\n",
      "[mcmc]  - Convergence of means: R-1 = 0.082688 after 400 accepted steps\n",
      "[mcmc]  - Updated covariance matrix of proposal pdf.\n",
      "[mcmc] Learn + convergence test @ 480 samples accepted.\n",
      "[mcmc]  - Acceptance rate: 0.245\n",
      "[mcmc]  - Convergence of means: R-1 = 0.080991 after 480 accepted steps\n",
      "[mcmc]  - Updated covariance matrix of proposal pdf.\n",
      "[mcmc] Learn + convergence test @ 560 samples accepted.\n",
      "[mcmc]  - Acceptance rate: 0.250\n",
      "[mcmc]  - Convergence of means: R-1 = 0.036713 after 560 accepted steps\n",
      "[mcmc]  - Updated covariance matrix of proposal pdf.\n",
      "[mcmc] Learn + convergence test @ 640 samples accepted.\n",
      "[mcmc]  - Acceptance rate: 0.248\n",
      "[mcmc]  - Convergence of means: R-1 = 0.075433 after 640 accepted steps\n",
      "[mcmc]  - Updated covariance matrix of proposal pdf.\n",
      "[mcmc] Learn + convergence test @ 720 samples accepted.\n",
      "[mcmc]  - Acceptance rate: 0.255\n",
      "[mcmc]  - Convergence of means: R-1 = 0.033981 after 720 accepted steps\n",
      "[mcmc]  - Updated covariance matrix of proposal pdf.\n",
      "[mcmc] Learn + convergence test @ 800 samples accepted.\n",
      "[mcmc]  - Acceptance rate: 0.261\n",
      "[mcmc]  - Convergence of means: R-1 = 0.062592 after 800 accepted steps\n",
      "[mcmc]  - Updated covariance matrix of proposal pdf.\n",
      "[mcmc] Learn + convergence test @ 880 samples accepted.\n",
      "[mcmc]  - Acceptance rate: 0.264\n",
      "[mcmc]  - Convergence of means: R-1 = 0.069965 after 880 accepted steps\n",
      "[mcmc]  - Updated covariance matrix of proposal pdf.\n",
      "[mcmc] Learn + convergence test @ 960 samples accepted.\n",
      "[mcmc]  - Acceptance rate: 0.266\n",
      "[mcmc]  - Convergence of means: R-1 = 0.043950 after 960 accepted steps\n",
      "[mcmc]  - Updated covariance matrix of proposal pdf.\n",
      "[mcmc] Learn + convergence test @ 1040 samples accepted.\n",
      "[mcmc]  - Acceptance rate: 0.269\n",
      "[mcmc]  - Convergence of means: R-1 = 0.070879 after 1040 accepted steps\n",
      "[mcmc]  - Updated covariance matrix of proposal pdf.\n",
      "[mcmc] Learn + convergence test @ 1120 samples accepted.\n",
      "[mcmc]  - Acceptance rate: 0.270\n",
      "[mcmc]  - Convergence of means: R-1 = 0.047486 after 1120 accepted steps\n",
      "[mcmc]  - Updated covariance matrix of proposal pdf.\n",
      "[mcmc] Learn + convergence test @ 1200 samples accepted.\n",
      "[mcmc]  - Acceptance rate: 0.273\n",
      "[mcmc]  - Convergence of means: R-1 = 0.051158 after 1200 accepted steps\n",
      "[mcmc]  - Updated covariance matrix of proposal pdf.\n",
      "[mcmc] Learn + convergence test @ 1280 samples accepted.\n",
      "[mcmc]  - Acceptance rate: 0.275\n",
      "[mcmc]  - Convergence of means: R-1 = 0.057997 after 1280 accepted steps\n",
      "[mcmc]  - Updated covariance matrix of proposal pdf.\n",
      "[mcmc] Learn + convergence test @ 1360 samples accepted.\n",
      "[mcmc]  - Acceptance rate: 0.275\n",
      "[mcmc]  - Convergence of means: R-1 = 0.037091 after 1360 accepted steps\n",
      "[mcmc]  - Updated covariance matrix of proposal pdf.\n",
      "[mcmc] Learn + convergence test @ 1440 samples accepted.\n",
      "[mcmc]  - Acceptance rate: 0.275\n",
      "[mcmc]  - Convergence of means: R-1 = 0.031860 after 1440 accepted steps\n",
      "[mcmc]  - Updated covariance matrix of proposal pdf.\n",
      "[mcmc] Learn + convergence test @ 1520 samples accepted.\n",
      "[mcmc]  - Acceptance rate: 0.277\n",
      "[mcmc]  - Convergence of means: R-1 = 0.024593 after 1520 accepted steps\n",
      "[mcmc]  - Updated covariance matrix of proposal pdf.\n",
      "[mcmc] Learn + convergence test @ 1600 samples accepted.\n",
      "[mcmc]  - Acceptance rate: 0.278\n",
      "[mcmc]  - Convergence of means: R-1 = 0.025919 after 1600 accepted steps\n",
      "[mcmc]  - Updated covariance matrix of proposal pdf.\n",
      "[mcmc] Learn + convergence test @ 1680 samples accepted.\n",
      "[mcmc]  - Acceptance rate: 0.279\n",
      "[mcmc]  - Convergence of means: R-1 = 0.020432 after 1680 accepted steps\n",
      "[mcmc]  - Updated covariance matrix of proposal pdf.\n",
      "[mcmc] Learn + convergence test @ 1760 samples accepted.\n",
      "[mcmc]  - Acceptance rate: 0.281\n",
      "[mcmc]  - Convergence of means: R-1 = 0.016064 after 1760 accepted steps\n",
      "[mcmc]  - Updated covariance matrix of proposal pdf.\n",
      "[mcmc] Learn + convergence test @ 1840 samples accepted.\n",
      "[mcmc]  - Acceptance rate: 0.283\n",
      "[mcmc]  - Convergence of means: R-1 = 0.016266 after 1840 accepted steps\n",
      "[mcmc]  - Updated covariance matrix of proposal pdf.\n",
      "[mcmc] Learn + convergence test @ 1920 samples accepted.\n",
      "[mcmc]  - Acceptance rate: 0.282\n",
      "[mcmc]  - Convergence of means: R-1 = 0.005717 after 1920 accepted steps\n",
      "[mcmc]  - Updated covariance matrix of proposal pdf.\n",
      "[mcmc] Learn + convergence test @ 2000 samples accepted.\n",
      "[mcmc]  - Acceptance rate: 0.282\n",
      "[mcmc]  - Convergence of means: R-1 = 0.003604 after 2000 accepted steps\n",
      "[mcmc]  - Convergence of bounds: R-1 = 0.068271 after 2000 accepted steps\n",
      "[mcmc] The run has converged!\n",
      "[mcmc] Sampling complete after 2000 accepted steps.\n"
     ]
    }
   ],
   "source": [
    "from cobaya.run import run\n",
    "\n",
    "updated_info, sampler = run(info)"
   ]
  },
  {
   "cell_type": "code",
   "execution_count": 8,
   "metadata": {},
   "outputs": [
    {
     "name": "stdout",
     "output_type": "stream",
     "text": [
      "[root] *WARNING* outlier fraction 0.0165 \n",
      "Mean:\n",
      "[0.45619519 0.0012297 ]\n",
      "Covariance matrix:\n",
      "[[0.07865662 0.01022457]\n",
      " [0.01022457 0.05023441]]\n"
     ]
    },
    {
     "data": {
      "image/png": "[encoded data removed]",
      "text/plain": [
       "<Figure size 288x288 with 3 Axes>"
      ]
     },
     "metadata": {
      "needs_background": "light"
     },
     "output_type": "display_data"
    }
   ],
   "source": [
    "# Export the results to GetDist\n",
    "from getdist.mcsamples import MCSamplesFromCobaya\n",
    "\n",
    "gd_sample = MCSamplesFromCobaya(updated_info, sampler.products()[\"sample\"])\n",
    "# Analyze and plot\n",
    "mean = gd_sample.getMeans()[:2]\n",
    "covmat = gd_sample.getCovMat().matrix[:2, :2]\n",
    "print(\"Mean:\")\n",
    "print(mean)\n",
    "print(\"Covariance matrix:\")\n",
    "print(covmat)\n",
    "%matplotlib inline  \n",
    "# uncomment if running from the Jupyter notebook\n",
    "import getdist.plots as gdplt\n",
    "\n",
    "gdplot = gdplt.get_subplot_plotter()\n",
    "gdplot.triangle_plot(gd_sample, [\"a\", \"b\"], filled=True)"
   ]
  },
  {
   "cell_type": "code",
   "execution_count": null,
   "metadata": {},
   "outputs": [],
   "source": []
  },
  {
   "cell_type": "code",
   "execution_count": null,
   "metadata": {},
   "outputs": [],
   "source": []
  },
  {
   "cell_type": "code",
   "execution_count": null,
   "metadata": {},
   "outputs": [],
   "source": []
  },
  {
   "cell_type": "code",
   "execution_count": null,
   "metadata": {},
   "outputs": [],
   "source": []
  }
 ],
 "metadata": {
  "kernelspec": {
   "display_name": "Python 3",
   "language": "python",
   "name": "python3"
  },
  "language_info": {
   "codemirror_mode": {
    "name": "ipython",
    "version": 3
   },
   "file_extension": ".py",
   "mimetype": "text/x-python",
   "name": "python",
   "nbconvert_exporter": "python",
   "pygments_lexer": "ipython3",
   "version": "3.8.2"
  }
 },
 "nbformat": 4,
 "nbformat_minor": 4
}
