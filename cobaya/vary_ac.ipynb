{
 "cells": [
  {
   "cell_type": "code",
   "execution_count": 1,
   "metadata": {},
   "outputs": [],
   "source": [
    "# import necessary modules\n",
    "%matplotlib inline\n",
    "import matplotlib\n",
    "import matplotlib.pyplot as plt\n",
    "import numpy as np\n",
    "from scipy.optimize import fsolve\n",
    "import math\n",
    "from classy import Class"
   ]
  },
  {
   "cell_type": "code",
   "execution_count": 2,
   "metadata": {},
   "outputs": [],
   "source": [
    "# esthetic definitions for the plots\n",
    "font = {'size'   : 16, 'family':'STIXGeneral'}\n",
    "axislabelfontsize='large'\n",
    "matplotlib.rc('font', **font)\n",
    "matplotlib.mathtext.rcParams['legend.fontsize']='medium'\n",
    "plt.rcParams[\"figure.figsize\"] = [8.0,6.0]"
   ]
  },
  {
   "cell_type": "code",
   "execution_count": 10,
   "metadata": {},
   "outputs": [],
   "source": [
    "var_name = 'log10_axion_ac'\n",
    "var_min = -3.8\n",
    "var_max = var_min + 0.5\n",
    "var_num = 5\n",
    "var_legend = 'log10_axion_ac'\n",
    "var_figname = '2log10_axion_ac'"
   ]
  },
  {
   "cell_type": "code",
   "execution_count": 11,
   "metadata": {},
   "outputs": [],
   "source": [
    "var2_name = 'log10_fraction_axion_ac'\n",
    "var2_min = 0.02\n",
    "var2_max = var2_min + 0.08\n",
    "var2_num = 5\n",
    "var2_legend = 'log10_fraction_axion_ac'\n",
    "var2_figname = 'log10_fraction_axion_ac'"
   ]
  },
  {
   "cell_type": "code",
   "execution_count": 21,
   "metadata": {},
   "outputs": [
    {
     "name": "stdout",
     "output_type": "stream",
     "text": [
      " * Compute with log10_axion_ac=-3.800000e+00\n",
      " * Compute with log10_fraction_axion_ac=2.000000e-02\n",
      " * Compute with log10_axion_ac=-3.675000e+00\n",
      " * Compute with log10_fraction_axion_ac=4.000000e-02\n",
      " * Compute with log10_axion_ac=-3.550000e+00\n",
      " * Compute with log10_fraction_axion_ac=6.000000e-02\n",
      " * Compute with log10_axion_ac=-3.425000e+00\n",
      " * Compute with log10_fraction_axion_ac=8.000000e-02\n",
      " * Compute with log10_axion_ac=-3.300000e+00\n",
      " * Compute with log10_fraction_axion_ac=1.000000e-01\n"
     ]
    },
    {
     "data": {
      "image/png": "[encoded data removed]",
      "text/plain": [
       "<Figure size 576x432 with 1 Axes>"
      ]
     },
     "metadata": {
      "needs_background": "light"
     },
     "output_type": "display_data"
    }
   ],
   "source": [
    "# Fixed settings\n",
    "#\n",
    "common_settings = {\"output\":'tCl,lCl',\n",
    "                   \"lensing\": 'yes',\n",
    "                   \"A_s\": 2.176e-9,  \n",
    "                   \"n_s\": 0.9812,\n",
    "                   \"h\": 0.7352,\n",
    "                   \"omega_b\": 0.02255,\n",
    "                   \"omega_cdm\": 0.1272,\n",
    "                   \"tau_reio\": 0.068,\n",
    "                   #'Omega_Lambda': 0.7,\n",
    "                   \"Omega_fld\": 0,\n",
    "                   \"Omega_scf\": 0.01,\n",
    "                   \"n_axion\": 3,\n",
    "                   \"scf_tuning_index\": 0,\n",
    "                   \"scf_parameters\": '0.1,0',\n",
    "                   \"scf_potential\": \"axion\",}\n",
    "\n",
    "# arrays for output\n",
    "#\n",
    "#kvec = np.logspace(-4,np.log10(3),1000)\n",
    "legarray = []\n",
    "twopi = 2.*math.pi\n",
    "#\n",
    "# Create figures\n",
    "#\n",
    "fig_TT, ax_TT = plt.subplots()\n",
    "#\n",
    "# loop over varying parameter values\n",
    "#\n",
    "for i in range(var_num):\n",
    "    #\n",
    "    # deal with varying parameters:\n",
    "    #\n",
    "    var = var_min + (var_max-var_min)*i/(var_num-1.)\n",
    "    var2 = var2_min + (var2_max-var2_min)*i/(var2_num-1.)\n",
    "    #\n",
    "    print (' * Compute with %s=%e'%(var_name,var))\n",
    "    print (' * Compute with %s=%e'%(var2_name,var2))\n",
    "    #\n",
    "    # deal with colors and legends\n",
    "    #\n",
    "    if i == 0:\n",
    "        var_color = 'k'\n",
    "        linestyle_a = '-'\n",
    "        var_alpha = 1.\n",
    "        legarray.append(r'ref. $\\Lambda CDM$')\n",
    "    else:\n",
    "        var_color = 'r'\n",
    "        var_alpha = 1.*i/(var_num-1.)\n",
    "        linestyle_a = ':'\n",
    "    if i == var_num-1:\n",
    "        legarray.append(var_legend)\n",
    "    #    \n",
    "    # call CLASS\n",
    "    #\n",
    "    M = Class()\n",
    "    M.set(common_settings)\n",
    "    M.set({var_name: var})\n",
    "    M.set({var2_name: math.log10(var2)})\n",
    "    M.compute()\n",
    "    #\n",
    "    # get Cls\n",
    "    #\n",
    "    clM = M.lensed_cl(2500)\n",
    "    ll = clM['ell'][2:]\n",
    "    clTT = clM['tt'][2:]\n",
    "    #print(clM)\n",
    "    #\n",
    "    # plot C_l^TT\n",
    "    #\n",
    "    ax_TT.semilogx(ll,clTT*ll*(ll+1)/twopi,color=var_color,alpha=var_alpha, linestyle = linestyle_a)\n",
    "    #ax_TT.semilogx(ll,clTT*ll*(ll+1)/twopi,color=var2_color,alpha=var2_alpha,linestyle='-')\n",
    "    #\n",
    "    # reset CLASS\n",
    "    #\n",
    "    M.struct_cleanup()\n",
    "    \n",
    "# output of C_l^TT figure\n",
    "#      \n",
    "ax_TT.set_xlim([2,2500])\n",
    "ax_TT.set_xlabel(r'$\\ell$')\n",
    "ax_TT.set_ylabel(r'$[\\ell(\\ell+1)/2\\pi]  C_\\ell^\\mathrm{TT}$')\n",
    "ax_TT.legend(legarray)\n",
    "fig_TT.tight_layout()\n",
    "fig_TT.savefig('spectra_%s_cltt.pdf' % var_figname)"
   ]
  },
  {
   "cell_type": "code",
   "execution_count": null,
   "metadata": {},
   "outputs": [],
   "source": []
  }
 ],
 "metadata": {
  "kernelspec": {
   "display_name": "Python 3",
   "language": "python",
   "name": "python3"
  },
  "language_info": {
   "codemirror_mode": {
    "name": "ipython",
    "version": 3
   },
   "file_extension": ".py",
   "mimetype": "text/x-python",
   "name": "python",
   "nbconvert_exporter": "python",
   "pygments_lexer": "ipython3",
   "version": "3.8.3"
  }
 },
 "nbformat": 4,
 "nbformat_minor": 4
}
